{
 "cells": [
  {
   "cell_type": "code",
   "execution_count": null,
   "metadata": {},
   "outputs": [],
   "source": [
    "# 1. Login application with strings\n",
    "username=\"eric\"\n",
    "password=\"cartman\"\n",
    "temp_username=input(\"Enter your username to login system: \\n\")\n",
    "if temp_username==username:\n",
    "    print(\"User founded.\\n\")\n",
    "    temp_password=input(\"Enter your password: \\n\")\n",
    "    if password == temp_password:\n",
    "        print(\"Succesfully logged in the system.\\n\")\n",
    "    else: \n",
    "        print(\"Password not matched with the user!\")\n",
    "else:\n",
    "        print(\"User not found!\")"
   ]
  },
  {
   "cell_type": "code",
   "execution_count": null,
   "metadata": {},
   "outputs": [],
   "source": [
    "# 2. login application with dictionary"
   ]
  },
  {
   "cell_type": "code",
   "execution_count": null,
   "metadata": {
    "scrolled": true
   },
   "outputs": [],
   "source": [
    "database={'eric': 'cartman', 'stan': 'marsh', 'kyle': 'colorado'}\n",
    "temp_username=input(\"Enter your username to login system: \\n\")\n",
    "if  temp_username in database:\n",
    "    print(\"User founded in database.\\n\")\n",
    "    password=database.get(temp_username)\n",
    "    temp_password=input(\"Enter your password: \\n\")\n",
    "    if password == temp_password:\n",
    "        print(\"Succesfully logged in the system.\\n\")\n",
    "    else: \n",
    "        print(\"Password not matched with user!\")\n",
    "else:\n",
    "    print(\"User not found!\")"
   ]
  }
 ],
 "metadata": {
  "kernelspec": {
   "display_name": "Python 3",
   "language": "python",
   "name": "python3"
  },
  "language_info": {
   "codemirror_mode": {
    "name": "ipython",
    "version": 3
   },
   "file_extension": ".py",
   "mimetype": "text/x-python",
   "name": "python",
   "nbconvert_exporter": "python",
   "pygments_lexer": "ipython3",
   "version": "3.7.4"
  }
 },
 "nbformat": 4,
 "nbformat_minor": 2
}
