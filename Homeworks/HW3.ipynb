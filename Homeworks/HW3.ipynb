{
 "cells": [
  {
   "cell_type": "code",
   "execution_count": null,
   "metadata": {},
   "outputs": [],
   "source": [
    "# Course Grade Application\n",
    "# Key Points: I used nested dictionary for store student informations got from by user.\n",
    "# After all infos is got and grade calculation complete,\n",
    "# name and grade values transfered a list with for loop using of index feature.\n",
    "# At final we sorted list with reverse=True parameter so highest grade is first index and\n",
    "# least grade is last index.\n",
    "# My code is flexible, student count/number can be determine by the user with some little changes,\n",
    "# and studenttable could be create by for loop."
   ]
  },
  {
   "cell_type": "code",
   "execution_count": null,
   "metadata": {},
   "outputs": [],
   "source": [
    "studenttable = {1: {'name': 'name', 'midterm': 'midterm', 'final': 'final','project': 'project','grade': 'grade'},\n",
    "                2: {'name': 'name', 'midterm': 'midterm', 'final': 'final','project': 'project','grade': 'grade'},\n",
    "                3: {'name': 'name', 'midterm': 'midterm', 'final': 'final','project': 'project','grade': 'grade'},\n",
    "                4: {'name': 'name', 'midterm': 'midterm', 'final': 'final','project': 'project','grade': 'grade'},\n",
    "                5: {'name': 'name', 'midterm': 'midterm', 'final': 'final','project': 'project','grade': 'grade'}}"
   ]
  },
  {
   "cell_type": "code",
   "execution_count": null,
   "metadata": {},
   "outputs": [],
   "source": [
    "# Notes of exam and homeworks must be in range [0-100],\n",
    "# that function will verify that.\n",
    "def getinput(text):\n",
    "    verified_input=0\n",
    "    while (verified_input==0):\n",
    "        user_input=float(input(text))\n",
    "        if user_input >= 0 and user_input <= 100:\n",
    "            verified_input=1\n",
    "            return user_input\n",
    "        else:\n",
    "            verified_input=0\n",
    "            print(\"Enter a valid value:\")"
   ]
  },
  {
   "cell_type": "code",
   "execution_count": null,
   "metadata": {},
   "outputs": [],
   "source": [
    "count=0\n",
    "while count<5:\n",
    "    count=count+1\n",
    "    student_name=input(\"Enter name of the the student {}:\\n\".format(count))\n",
    "    midterm=getinput(\"Enter midterm grade the of student {}:\\n\".format(count))\n",
    "    project=getinput(\"Enter project grade the of student {}:\\n\".format(count))\n",
    "    final=getinput(\"Enter final grade of the student {}:\\n\".format(count))\n",
    "    passingGrade=(midterm*0.3)+(project*0.3)+(final*0.4)\n",
    "    studenttable[count]['name']=student_name\n",
    "    studenttable[count]['midterm']=midterm\n",
    "    studenttable[count]['final']=final\n",
    "    studenttable[count]['project']=project\n",
    "    studenttable[count]['grade']=passingGrade"
   ]
  },
  {
   "cell_type": "code",
   "execution_count": null,
   "metadata": {},
   "outputs": [],
   "source": [
    "list=[]\n",
    "count=0\n",
    "while count < 5 :\n",
    "    count=count+1\n",
    "    list.append((studenttable[count]['grade'],studenttable[count]['name']))"
   ]
  },
  {
   "cell_type": "code",
   "execution_count": null,
   "metadata": {},
   "outputs": [],
   "source": [
    "list.sort(reverse=True)"
   ]
  },
  {
   "cell_type": "code",
   "execution_count": null,
   "metadata": {},
   "outputs": [],
   "source": [
    "print(\"List of grades is:\")\n",
    "print(list)\n",
    "# Some float number precision's so long and that not looks good when printed list for prevent this\n",
    "# we can use \"\"%.4g\" %\" transform during list.append function.\n",
    "# but I don't used because that tranformation syntax varies between Python versions."
   ]
  }
 ],
 "metadata": {
  "kernelspec": {
   "display_name": "Python 3",
   "language": "python",
   "name": "python3"
  },
  "language_info": {
   "codemirror_mode": {
    "name": "ipython",
    "version": 3
   },
   "file_extension": ".py",
   "mimetype": "text/x-python",
   "name": "python",
   "nbconvert_exporter": "python",
   "pygments_lexer": "ipython3",
   "version": "3.7.4"
  }
 },
 "nbformat": 4,
 "nbformat_minor": 2
}
