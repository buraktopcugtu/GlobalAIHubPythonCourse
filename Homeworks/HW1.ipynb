{
 "cells": [
  {
   "cell_type": "code",
   "execution_count": 4,
   "metadata": {},
   "outputs": [
    {
     "name": "stdout",
     "output_type": "stream",
     "text": [
      "Original list is:\n",
      " ['Pluto', 'Eris', 'Haumea', 'Makemake', 'Gonggong', 'Quaoar', 'Sedna', 'Orcus']\n",
      "Swapped list is:\n",
      " ['Gonggong', 'Quaoar', 'Sedna', 'Orcus', 'Pluto', 'Eris', 'Haumea', 'Makemake']\n"
     ]
    }
   ],
   "source": [
    "# Method 1: Swapping two half of list with manual\n",
    "dwarf_planets=([ \"Pluto\", \"Eris\", \"Haumea\", \"Makemake\", \"Gonggong\", \"Quaoar\", \"Sedna\",\"Orcus\"])\n",
    "print(\"Original list is:\\n\",dwarf_planets)\n",
    "temp_list1=dwarf_planets[0:4]  # we assigned firt half of array to that list\n",
    "temp_list2=dwarf_planets[4:8]  # we assigned second half of array to that list\n",
    "dwarf_planets=temp_list2+temp_list1 # new list is second half+ firt half\n",
    "print(\"Swapped list is:\\n\",dwarf_planets)"
   ]
  },
  {
   "cell_type": "code",
   "execution_count": null,
   "metadata": {},
   "outputs": [],
   "source": [
    "# Method 2: We can olso write a simple function for that\n",
    "def swap_array(list):\n",
    "    n=len(list)\n",
    "    if( n%2 == 0 ): # checking lenght of list is odd or even\n",
    "        n1=int(n/2)\n",
    "        temp_list2=list[0:(n1)]\n",
    "        temp_list1=list[(n1):n]\n",
    "        list=temp_list1+temp_list2\n",
    "        print(\"Swapped list is:\")   \n",
    "        print(list)                   # will print swapped list\n",
    "                                       # if we need to assign swapped list to a new list \n",
    "                                       # can change \"print(list)\" to \"return (list)\" \n",
    "    else:\n",
    "        print (\"Lenght of list non-suitable for swapping\")"
   ]
  },
  {
   "cell_type": "code",
   "execution_count": 104,
   "metadata": {},
   "outputs": [
    {
     "name": "stdout",
     "output_type": "stream",
     "text": [
      "Original list is:\n",
      " ['Pluto', 'Eris', 'Haumea', 'Makemake', 'Gonggong', 'Quaoar', 'Sedna', 'Orcus']\n",
      "Swapped list is:\n",
      "['Gonggong', 'Quaoar', 'Sedna', 'Orcus', 'Pluto', 'Eris', 'Haumea', 'Makemake']\n"
     ]
    }
   ],
   "source": [
    "# Function Test\n",
    "dwarf_planets=([ \"Pluto\", \"Eris\", \"Haumea\", \"Makemake\", \"Gonggong\", \"Quaoar\", \"Sedna\",\"Orcus\"])\n",
    "print(\"Original list is:\\n\",dwarf_planets)\n",
    "swap_array(dwarf_planets)"
   ]
  }
 ],
 "metadata": {
  "kernelspec": {
   "display_name": "Python 3",
   "language": "python",
   "name": "python3"
  },
  "language_info": {
   "codemirror_mode": {
    "name": "ipython",
    "version": 3
   },
   "file_extension": ".py",
   "mimetype": "text/x-python",
   "name": "python",
   "nbconvert_exporter": "python",
   "pygments_lexer": "ipython3",
   "version": "3.7.4"
  }
 },
 "nbformat": 4,
 "nbformat_minor": 2
}
