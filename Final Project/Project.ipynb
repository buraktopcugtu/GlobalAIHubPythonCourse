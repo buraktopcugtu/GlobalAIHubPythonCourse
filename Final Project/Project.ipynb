{
 "cells": [
  {
   "cell_type": "code",
   "execution_count": null,
   "metadata": {},
   "outputs": [],
   "source": [
    "# Knowledge Competition Application\n",
    "# Methodology and Structure of Program: \n",
    "# Questions and it's answers stored in nested dictionary,\n",
    "# response options shown to the user stored in nested list.\n",
    "# User must be type his answer with paying attention to lower/upper letters and spaces.\n",
    "# I wrote functions for asking question, checking anwer, get input from user and calculate total point and true answers.\n",
    "# This way the code is becomes very simple and effective,\n",
    "# if we wouldn't use functions need to use and repeat print/get input/check answer operations with if/else statements."
   ]
  },
  {
   "cell_type": "code",
   "execution_count": null,
   "metadata": {},
   "outputs": [],
   "source": [
    "question_table= {1: {'question': 'Who is the leading actor in the \"The Last Castle\" movie?', 'answer': 'Robert Redford'},\n",
    "                 2: {'question': 'Who is the director of the Alien movie?', 'answer': 'Ridley Scott'},\n",
    "                 3: {'question': 'Which of the following films has Uma Thurman not starred in?', 'answer': 'Training Day'},\n",
    "                 4: {'question': 'What is the role of Tom Cruise in \"A Few Good Men\" movie?','answer': 'Lawyer'},\n",
    "                 5: {'question': 'Which of the following films has Jessica Alba starred in?', 'answer': 'The Eye'},\n",
    "                 6: {'question': 'Which of the following films has Kurt Russell starred in?', 'answer': 'The Thing'},\n",
    "                 7: {'question': 'Which of the following films directed by John Carpenter?', 'answer': 'Ghosts of Mars'},\n",
    "                 8: {'question': 'Which of the following films directed by Kathryn Bigelow?', 'answer': 'Blue Steel'},\n",
    "                 9: {'question': 'What is the star of \"The Hunt for Red October\" film?', 'answer': 'Sean Connery'},\n",
    "                10: {'question': 'Which of the following films has Keanu Reeves starred in?', 'answer': 'Point Break'}}"
   ]
  },
  {
   "cell_type": "code",
   "execution_count": null,
   "metadata": {},
   "outputs": [],
   "source": [
    "choices_list=[['- Robert Redford','- Denzel Washington'],['- Tony Scott','- Ridley Scott']\n",
    "             ,['- Gattaca','- Training Day'],['- Lawyer','- Pilot'],['- Jurassic Park','- The Eye']\n",
    "             ,['- Jaws','- The Thing'] ,['- Ghosts of Mars','- Armageddon'] ,['- Dark Blue','- Blue Steel']\n",
    "              ,['- Sean Connery','- Pierce Brosnan'] ,['- From Paris with Love','- Point Break']]"
   ]
  },
  {
   "cell_type": "code",
   "execution_count": null,
   "metadata": {},
   "outputs": [],
   "source": [
    "def ask_question(number):\n",
    "    question=question_table[number]['question']\n",
    "    choices=choices_list[number-1]\n",
    "    print(\"{}. {}\\n{} \\n\".format(number,question, \" \".join(choices)))\n",
    "def check_answer(answer,number):\n",
    "    true_answer=question_table[number]['answer']\n",
    "    if user_answer==true_answer:\n",
    "        return 1\n",
    "    else:\n",
    "        return 0\n",
    "def getinput():\n",
    "    user_input=str(input(\"Enter your answer:\"))\n",
    "    return user_input\n",
    "def result(count):\n",
    "    total_point=count*10\n",
    "    if count>5:\n",
    "        print(\"You have succeeded by answering {} questions correctly.\".format(count))\n",
    "        print(\"Your total point is:\",total_point)\n",
    "    else:\n",
    "        print(\"You have failed by answering only {} questions correctly.\".format(count))\n",
    "        print(\"Your total point is: {}\".format(total_point))"
   ]
  },
  {
   "cell_type": "code",
   "execution_count": null,
   "metadata": {},
   "outputs": [],
   "source": [
    "true_count, num=0,0\n",
    "while(num<10):\n",
    "    num=num+1\n",
    "    ask_question(num)\n",
    "    user_answer=getinput()\n",
    "    true_count=check_answer(user_answer,num)+true_count\n",
    "result(true_count)"
   ]
  }
 ],
 "metadata": {
  "kernelspec": {
   "display_name": "Python 3",
   "language": "python",
   "name": "python3"
  },
  "language_info": {
   "codemirror_mode": {
    "name": "ipython",
    "version": 3
   },
   "file_extension": ".py",
   "mimetype": "text/x-python",
   "name": "python",
   "nbconvert_exporter": "python",
   "pygments_lexer": "ipython3",
   "version": "3.7.4"
  }
 },
 "nbformat": 4,
 "nbformat_minor": 2
}
